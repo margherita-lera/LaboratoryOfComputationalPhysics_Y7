{
 "cells": [
  {
   "cell_type": "markdown",
   "metadata": {},
   "source": [
    "0\\. Implement a function (whatever you want) and save it to a file (e.g. `function.py`). Import that file and use that function in this notebook.\n"
   ]
  },
  {
   "cell_type": "code",
   "execution_count": null,
   "metadata": {},
   "outputs": [],
   "source": []
  },
  {
   "cell_type": "markdown",
   "metadata": {},
   "source": [
    "1\\. Write the following as a list comprehension"
   ]
  },
  {
   "cell_type": "code",
   "execution_count": 4,
   "metadata": {},
   "outputs": [
    {
     "name": "stdout",
     "output_type": "stream",
     "text": [
      "[(0, 0), (0, 1), (0, 2), (0, 3), (1, 0), (1, 1), (1, 2), (1, 3), (2, 0), (2, 1), (2, 2), (2, 3)]\n",
      "[(0, 0), (0, 1), (0, 2), (0, 3), (1, 0), (1, 1), (1, 2), (1, 3), (2, 0), (2, 1), (2, 2), (2, 3)]\n",
      "[0, 4, 16]\n",
      "[0, 4, 16]\n"
     ]
    }
   ],
   "source": [
    "# 1\n",
    "ans = []\n",
    "for i in range(3):\n",
    "    for j in range(4):\n",
    "        ans.append((i, j))\n",
    "print (ans)\n",
    "ans2=[(x,y) for x in (range(3)) for y in range(4)]\n",
    "print(ans2)\n",
    "# 2\n",
    "ans = map(lambda x: x*x, filter(lambda x: x%2 == 0, range(5)))\n",
    "print (list(ans))\n",
    "\n",
    "ans2=[x*x for x in range(5) if x%2==0]\n",
    "print(ans2)\n",
    "\n"
   ]
  },
  {
   "cell_type": "markdown",
   "metadata": {},
   "source": [
    "2\\. Convert the following function into a pure function with no global variables or side effects"
   ]
  },
  {
   "cell_type": "code",
   "execution_count": 15,
   "metadata": {},
   "outputs": [
    {
     "name": "stdout",
     "output_type": "stream",
     "text": [
      "[1, 2, 3, 0, 1, 2, 3, 4]\n",
      "[1, 2, 3]\n"
     ]
    }
   ],
   "source": [
    "#x=5\n",
    "#def f(alist):\n",
    "#    for i in range(x):\n",
    "#         alist.append(i)\n",
    "#    return (y)\n",
    "\n",
    "#alist = [1,2,3]\n",
    "#ans= f(alist)\n",
    "#print (ans)\n",
    "#print (alist) # alist has been changed!\n",
    "\n",
    "def f(alist):\n",
    "    y=[x for x in alist]\n",
    "    for i in range(5):\n",
    "         y.append(i)\n",
    "    return (y)\n",
    "\n",
    "alist = [1,2,3]\n",
    "ans= f(alist)\n",
    "print (ans)\n",
    "print (alist) #alist now doesn't change"
   ]
  },
  {
   "cell_type": "markdown",
   "metadata": {},
   "source": [
    "3\\. Write a `decorator` hello that makes every wrapped function print “Hello!”, i.e. something like:\n",
    "\n",
    "```python\n",
    "@hello\n",
    "def square(x):\n",
    "    return x*x\n",
    "```\n",
    "\n"
   ]
  },
  {
   "cell_type": "code",
   "execution_count": 26,
   "metadata": {},
   "outputs": [
    {
     "name": "stdout",
     "output_type": "stream",
     "text": [
      "Hello!\n",
      "Hello!\n",
      "Hello!\n",
      "Hello!\n",
      "Hello!\n"
     ]
    },
    {
     "data": {
      "text/plain": [
       "[None, None, None, None, None]"
      ]
     },
     "execution_count": 26,
     "metadata": {},
     "output_type": "execute_result"
    }
   ],
   "source": [
    "def hello(func):\n",
    "    def wrapper(x):\n",
    "        func(x)\n",
    "        print(\"Hello!\")\n",
    "    return wrapper\n",
    "\n",
    "@hello\n",
    "def square(x):\n",
    "    return x*x\n",
    "\n",
    "list(map(square,range(5)))"
   ]
  },
  {
   "cell_type": "markdown",
   "metadata": {},
   "source": [
    "4\\. Write the factorial function so that it a) does and b) does not use recursion."
   ]
  },
  {
   "cell_type": "code",
   "execution_count": 40,
   "metadata": {},
   "outputs": [
    {
     "name": "stdout",
     "output_type": "stream",
     "text": [
      "24\n",
      "24\n"
     ]
    }
   ],
   "source": [
    "def a(x):\n",
    "    fact=1\n",
    "    for i in range(1,x+1):\n",
    "        fact=fact*i\n",
    "    return fact\n",
    "\n",
    "print(a(4))\n",
    "\n",
    "def b(x):\n",
    "    a=1\n",
    "    b=1\n",
    "    for i in range(1,x+1):\n",
    "        a,b = b,b*i\n",
    "    return b\n",
    "print(b(4))"
   ]
  },
  {
   "cell_type": "markdown",
   "metadata": {},
   "source": [
    "5\\. Use HOFs (zip in particular) to compute the weight of a circle, a disk and a sphere, assuming different radii and different densities:\n",
    "\n",
    "```python\n",
    "densities = {\"Al\":[0.5,1,2],\"Fe\":[3,4,5],\"Pb\": [15,20,30]}\n",
    "radii = [1,2,3]\n",
    "```\n",
    "\n",
    "where the entries of the dictionary's values are the linear, superficial and volumetric densities of the materials respectively.\n",
    "\n",
    "In particular define a list of three lambda functions using a comprehension that computes the circumference, the area and the volume for a given radius.\n"
   ]
  },
  {
   "cell_type": "code",
   "execution_count": 126,
   "metadata": {},
   "outputs": [
    {
     "name": "stdout",
     "output_type": "stream",
     "text": [
      "[[6.28, 12.57, 18.85], [3.14, 12.57, 28.27], [4.19, 33.51, 113.1]]\n"
     ]
    }
   ],
   "source": [
    "import math\n",
    "\n",
    "densities = {\"Al\":[0.5,1,2],\"Fe\":[3,4,5],\"Pb\": [15,20,30]}\n",
    "radii = [1.0,2.0,3.0]\n",
    "#print(densities['Al'])\n",
    "\n",
    "cav=[lambda r: round(2*math.pi*r,2), lambda r: round(math.pi*(r**2),2), lambda r: round((4/3)*math.pi*(r**3),2)]\n",
    "\n",
    "#creating a list of 3 elements. The first has a list 3 circumferences for each radius, the second has the areas, \n",
    "# the third has the volumes.\n",
    "#for every type of density i have a list of linear/superficial/volumetric density with different radii.\n",
    "cavs=[list(map(cav[i],radii)) for i in range(3)]\n",
    "print(cavs)"
   ]
  },
  {
   "cell_type": "code",
   "execution_count": 128,
   "metadata": {},
   "outputs": [
    {
     "name": "stdout",
     "output_type": "stream",
     "text": [
      "Density for different materials: {'Al': 0.5, 'Fe': 3, 'Pb': 15}\n",
      "Each density will be multiplied by:  {'r1': 6.28, 'r2': 12.57, 'r3': 18.85}\n",
      "Weights:  {'Al': [3.14, 6.29, 9.43], 'Fe': [18.84, 37.71, 56.55], 'Pb': [94.2, 188.55, 282.75]}\n",
      "Density for different materials: {'Al': 1, 'Fe': 4, 'Pb': 20}\n",
      "Each density will be multiplied by:  {'r1': 3.14, 'r2': 12.57, 'r3': 28.27}\n",
      "Weights:  {'Al': [3.14, 12.57, 28.27], 'Fe': [12.56, 50.28, 113.08], 'Pb': [62.8, 251.4, 565.4]}\n",
      "Density for different materials: {'Al': 2, 'Fe': 5, 'Pb': 30}\n",
      "Each density will be multiplied by:  {'r1': 4.19, 'r2': 33.51, 'r3': 113.1}\n",
      "Weights:  {'Al': [8.38, 67.02, 226.2], 'Fe': [20.95, 167.55, 565.5], 'Pb': [125.7, 1005.3, 3393.0]}\n"
     ]
    }
   ],
   "source": [
    "def weight(dens):\n",
    "    k=0\n",
    "    for cav,al,fe,pb in zip(cavs,dens['Al'],dens['Fe'],dens['Pb']):\n",
    "        #for every r, now I have in each iteration every density and space but the first time it is linear, the \n",
    "        #second is superficial, and the third is volumetric\n",
    "        print('Density for different materials:',{'Al':al,'Fe':fe,'Pb':pb})\n",
    "        print('Each density will be multiplied by: ',{'r1':cav[0],'r2':cav[1],'r3':cav[2]})\n",
    "        weights={'Al':[round(c*al,2) for c in cav],'Fe':[round(c*fe,2) for c in cav],'Pb':[round(c*pb,2) for c in cav]}\n",
    "        print('Weights: ',weights)\n",
    "        k+=1\n",
    "weight(densities)"
   ]
  },
  {
   "cell_type": "markdown",
   "metadata": {},
   "source": [
    "6\\. Edit the class defintion to add an instance attribute of is_hungry = True to the Dog class. Then add a method called eat() which changes the value of is_hungry to False when called. Figure out the best way to feed each dog and then output “My dogs are hungry.” if all are hungry or “My dogs are not hungry.” if all are not hungry. The final output should look like this:\n",
    "\n",
    "`I have 3 dogs. \n",
    "Tom is 6. \n",
    "Fletcher is 7. \n",
    "Larry is 9. \n",
    "And they're all mammals, of course. \n",
    "My dogs are not hungry.\n",
    "`\n",
    "\n",
    "```python\n",
    "# Parent class\n",
    "class Dog:\n",
    "\n",
    "    # Class attribute\n",
    "    species = 'mammal'\n",
    "\n",
    "    # Initializer / Instance attributes\n",
    "    def __init__(self, name, age):\n",
    "        self.name = name\n",
    "        self.age = age\n",
    "\n",
    "    # instance method\n",
    "    def description(self):\n",
    "        return \"{} is {} years old\".format(self.name, self.age)\n",
    "\n",
    "    # instance method\n",
    "    def speak(self, sound):\n",
    "        return \"{} says {}\".format(self.name, sound)\n",
    "\n",
    "# Child class (inherits from Dog class)\n",
    "class RussellTerrier(Dog):\n",
    "    def run(self, speed):\n",
    "        return \"{} runs {}\".format(self.name, speed)\n",
    "\n",
    "# Child class (inherits from Dog class)\n",
    "class Bulldog(Dog):\n",
    "    def run(self, speed):\n",
    "        return \"{} runs {}\".format(self.name, speed)\n",
    "```"
   ]
  },
  {
   "cell_type": "code",
   "execution_count": 19,
   "metadata": {},
   "outputs": [
    {
     "name": "stdout",
     "output_type": "stream",
     "text": [
      "False\n"
     ]
    }
   ],
   "source": [
    "#Then add a method called eat() which changes the value of is_hungry to False when called. \n",
    "#Figure out the best way to feed each dog and then output “My dogs are hungry.” if all are hungry or\n",
    "#“My dogs are not hungry.” if all are not hungry. The final output should look like this:\n",
    "\n",
    "#I have 3 dogs.  Tom is 6.  Fletcher is 7.  Larry is 9. \n",
    "#And they're all mammals, of course.  My dogs are not hungry. \n",
    "\n",
    "\n",
    "# Parent class\n",
    "class Dog:\n",
    "    # Class attribute\n",
    "    species = 'mammal'\n",
    "    # Initializer / Instance attributes\n",
    "    def __init__(self, name, age, is_hungry):\n",
    "        self.name = name\n",
    "        self.age = age\n",
    "        self.is_hungry = True\n",
    "    # instance method\n",
    "    def description(self):\n",
    "        return \"{} is {} \".format(self.name, self.age)\n",
    "    # instance method\n",
    "    def speak(self, sound):\n",
    "        return \"{} says {}\".format(self.name, sound)\n",
    "    def eat(self):\n",
    "        self.is_hungry=False\n",
    "\n",
    "# Child class (inherits from Dog class)\n",
    "class RussellTerrier(Dog):\n",
    "    def run(self, speed):\n",
    "        return \"{} runs {}\".format(self.name, speed)\n",
    "\n",
    "# Child class (inherits from Dog class)\n",
    "class Bulldog(Dog):\n",
    "    def run(self, speed):\n",
    "        return \"{} runs {}\".format(self.name, speed)\n",
    "    \n",
    "dogs=[Dog('Tom',6,True),Dog('Fletcher',7,True),Dog('Larry',9,True)]\n",
    "\n",
    "count=0\n",
    "\n",
    "for i in range(3): \n",
    "    dogs[i].eat()\n",
    "    if (dogs[i].is_hungry==False): count+=1\n",
    "if(count==len(dogs)): print('my dogs are not hungry.')\n",
    "else: print('my dogs are hungry.')"
   ]
  },
  {
   "cell_type": "code",
   "execution_count": null,
   "metadata": {},
   "outputs": [],
   "source": []
  }
 ],
 "metadata": {
  "kernelspec": {
   "display_name": "Python 3 (ipykernel)",
   "language": "python",
   "name": "python3"
  },
  "language_info": {
   "codemirror_mode": {
    "name": "ipython",
    "version": 3
   },
   "file_extension": ".py",
   "mimetype": "text/x-python",
   "name": "python",
   "nbconvert_exporter": "python",
   "pygments_lexer": "ipython3",
   "version": "3.12.3"
  }
 },
 "nbformat": 4,
 "nbformat_minor": 2
}
