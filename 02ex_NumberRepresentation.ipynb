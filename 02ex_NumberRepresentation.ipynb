{
 "cells": [
  {
   "cell_type": "markdown",
   "metadata": {},
   "source": [
    "1\\. Write a function that converts number representation, bin<->dec<->hex. (Clearly using the corresponding python built-in functions is not fair..)"
   ]
  },
  {
   "cell_type": "code",
   "execution_count": 18,
   "metadata": {},
   "outputs": [
    {
     "name": "stdout",
     "output_type": "stream",
     "text": [
      "This conversion will print a 8-digit number. The first digit is the sign\n",
      "100100000\n"
     ]
    }
   ],
   "source": [
    "import math\n",
    "\n",
    "def dec_to_bin(x):\n",
    "    print('This conversion will print a 8-digit number. The first digit is the sign')\n",
    "    bin=[]\n",
    "    if x>=0: \n",
    "        neg=False\n",
    "    else: \n",
    "        neg=True\n",
    "        x=-x\n",
    "    if (x>254):\n",
    "        print('Modulo of number too large!')\n",
    "    else:\n",
    "        while(x>0):\n",
    "            bin.append(str(x%2))\n",
    "            x=math.trunc(x/2)\n",
    "        while(len(bin)<8):\n",
    "            bin.append('0')\n",
    "        if neg==True: bin.append('1')\n",
    "        else: bin.append('0')\n",
    "        bin.reverse()\n",
    "        print(''.join(bin))\n",
    "        \n",
    "    \n",
    "dec_to_bin(-32)"
   ]
  },
  {
   "cell_type": "code",
   "execution_count": 17,
   "metadata": {},
   "outputs": [
    {
     "name": "stdout",
     "output_type": "stream",
     "text": [
      "This conversion will print a 8-digit number. The first digit is the sign\n",
      "00000000A\n"
     ]
    }
   ],
   "source": [
    "def dec_to_hex(x):\n",
    "    print('This conversion will print a 8-digit number. The first digit is the sign')\n",
    "    bin=[]\n",
    "    if x>=0: \n",
    "        neg=False\n",
    "    else: \n",
    "        neg=True\n",
    "        x=-x\n",
    "    if (x>28633152):\n",
    "        print('Modulo of number too large!')\n",
    "    else:\n",
    "        while(x>0):\n",
    "            appendix=x%16\n",
    "            if (appendix==10): bin.append('A')\n",
    "            elif (appendix==11): bin.append('B')\n",
    "            elif (appendix==12): bin.append('C')\n",
    "            elif (appendix==13): bin.append('D')\n",
    "            elif (appendix==14): bin.append('E')\n",
    "            elif (appendix==15): bin.append('F')\n",
    "            else:bin.append(str(x%16))\n",
    "            x=math.trunc(x/16)\n",
    "        while(len(bin)<8):\n",
    "            bin.append('0')\n",
    "        if neg==True: bin.append('1')\n",
    "        else: bin.append('0')\n",
    "        bin.reverse()\n",
    "        print(''.join(bin))\n",
    "        \n",
    "    \n",
    "dec_to_hex(10)"
   ]
  },
  {
   "cell_type": "code",
   "execution_count": 12,
   "metadata": {},
   "outputs": [
    {
     "name": "stdout",
     "output_type": "stream",
     "text": [
      "6\n"
     ]
    }
   ],
   "source": [
    "def bit_to_decimal(y):\n",
    "    z=str(y)\n",
    "    x=[j for j in z]\n",
    "    x.reverse()\n",
    "    n=0\n",
    "    for i in range(len(x)):\n",
    "        n+=int(x[i])*2**i\n",
    "    return n\n",
    "\n",
    "print(bit_to_decimal(110))\n",
    "         "
   ]
  },
  {
   "cell_type": "markdown",
   "metadata": {},
   "source": [
    "2\\. Write a function that converts a 32 bit word into a single precision floating point (i.e. interprets the various bits as sign, mantissa and exponent)"
   ]
  },
  {
   "cell_type": "code",
   "execution_count": 14,
   "metadata": {},
   "outputs": [
    {
     "name": "stdout",
     "output_type": "stream",
     "text": [
      "-5.64237288394698e-37\n",
      "-1.5\n"
     ]
    }
   ],
   "source": [
    "def bit_to_float(x):\n",
    "    n=1\n",
    "    word=list(x)\n",
    "    if (x[1]==1): n=-1\n",
    "\n",
    "    exp=\"\"\n",
    "    for i in word[1:9]: exp += i\n",
    "    #exp = \"0b\" + exp\n",
    "    \n",
    "    mantissa=\"\"\n",
    "    for i in word[9:]: mantissa += i\n",
    "    mantissa = [int(j) for j in mantissa]\n",
    "    f = 0\n",
    "    l = [-i for i in range(1,len(mantissa)+1)]\n",
    "    for i in range(len(mantissa)): \n",
    "        f += mantissa[i] * 2**(l[i])\n",
    "\n",
    "\n",
    "    return ( (-1)**n ) * ( 2**(bit_to_decimal(exp) - 127) ) * f\n",
    "\n",
    "\n",
    "\n",
    "\n",
    "\n",
    "print(bit_to_float(\"00000011111000000000000000000000\"))\n",
    "print(bit_to_float(\"11000000101100000000000000000000\"))\n",
    "    "
   ]
  },
  {
   "cell_type": "markdown",
   "metadata": {},
   "source": [
    "3\\. Write a program to determine the underflow and overflow limits (within a factor of 2) for python on your computer. \n",
    "\n",
    "**Tips**: define two variables inizialized to 1 and halve/double them enough time to exceed the under/over-flow limits  "
   ]
  },
  {
   "cell_type": "code",
   "execution_count": null,
   "metadata": {},
   "outputs": [],
   "source": [
    "a=1\n",
    "b=1\n"
   ]
  },
  {
   "cell_type": "code",
   "execution_count": null,
   "metadata": {},
   "outputs": [],
   "source": [
    "a = 1\n",
    "i =0\n",
    "while True:\n",
    "    b = a\n",
    "    a += 2**(-i)\n",
    "    i +=1\n",
    "    if a==b:\n",
    "        print(\"n of iterations:\",i, \"result\",a)\n",
    "        break\n"
   ]
  },
  {
   "cell_type": "markdown",
   "metadata": {},
   "source": [
    "4\\. Write a program to determine the machine precision\n",
    "\n",
    "**Tips**: define a new variable by adding a smaller and smaller value (proceeding similarly to prob. 2) to an original variable and check the point where the two are the same "
   ]
  },
  {
   "cell_type": "markdown",
   "metadata": {},
   "source": [
    "5\\. Write a function that takes in input three parameters $a$, $b$ and $c$ and prints out the two solutions to the quadratic equation $ax^2+bx+c=0$ using the standard formula:\n",
    "$$\n",
    "x=\\frac{-b\\pm\\sqrt{b^2-4ac}}{2a}\n",
    "$$\n",
    "\n",
    "(a) use the program to compute the solution for $a=0.001$, $b=1000$ and $c=0.001$\n",
    "\n",
    "(b) re-express the standard solution formula by multiplying top and bottom by $-b\\mp\\sqrt{b^2-4ac}$ and again find the solution for $a=0.001$, $b=1000$ and $c=0.001$. How does it compare with what previously obtained? Why?\n",
    "\n",
    "(c) write a function that compute the roots of a quadratic equation accurately in all cases"
   ]
  },
  {
   "cell_type": "code",
   "execution_count": null,
   "metadata": {},
   "outputs": [],
   "source": [
    "from numpy import sqrt\n",
    "def quadsolver(a,b,c):\n",
    "    delta = sqrt(b**2-(4*a*c))\n",
    "    x1 = (-b +delta)/(2*a)\n",
    "    x2 = (-b -delta)/(2*a)\n",
    "    return x1,x2\n",
    "print(\"first\",quadsolver(0.001,1000,0.001))\n",
    "\n",
    "def quadsolverb(a,b,c):\n",
    "    delta = sqrt(b**2-(4*a*c))\n",
    "    x1top = (-b +delta)*(-b-delta)\n",
    "    x2top = (-b -delta)*(-b+delta)\n",
    "    x1bottom = 2*a*(-b-delta)\n",
    "    x2bottom = 2*a*(-b+delta)\n",
    "    x1 = x1top/x1bottom\n",
    "    x2 = x2top/x2bottom\n",
    "    return x1,x2\n",
    "\n",
    "print(\"second\",quadsolverb(0.001,1000,0.001))"
   ]
  },
  {
   "cell_type": "markdown",
   "metadata": {},
   "source": [
    "6\\. Write a program that implements the function $f(x)=x(x−1)$\n",
    "\n",
    "(a) Calculate the derivative of the function at the point $x = 1$ using the derivative definition:\n",
    "\n",
    "$$\n",
    "\\frac{{\\rm d}f}{{\\rm d}x} = \\lim_{\\delta\\to0} \\frac{f(x+\\delta)-f(x)}{\\delta}\n",
    "$$\n",
    "\n",
    "with $\\delta = 10^{−2}$. Calculate the true value of the same derivative analytically and compare with the answer your program gives. The two will not agree perfectly. Why not?\n",
    "\n",
    "(b) Repeat the calculation for $\\delta = 10^{−4}, 10^{−6}, 10^{−8}, 10^{−10}, 10^{−12}$ and $10^{−14}$. How does the accuracy scales with $\\delta$?"
   ]
  },
  {
   "cell_type": "code",
   "execution_count": null,
   "metadata": {},
   "outputs": [],
   "source": [
    "from scipy.misc import derivative\n",
    "\n",
    "def f(x): return x*(x-1)\n",
    "\n",
    "def limitByDef(function, point, delta):\n",
    "    return (function(point+delta)-function(point))/delta\n",
    "\n",
    "\n",
    "\n",
    "deltas = [1e-2,1e-4,1e-6,1e-8,1e-10,1e-12,1e-14]\n",
    "for delta in deltas:\n",
    "    mia = limitByDef(f,1,delta)\n",
    "    sua = derivative(f,1,delta)\n",
    "    print(\"Per dx = \", delta)\n",
    "    print(\" mia derivata\", mia)\n",
    "    print(\"scipy derivata\",sua)\n",
    "    print(\"differenza =\", abs(mia-sua))"
   ]
  },
  {
   "cell_type": "markdown",
   "metadata": {},
   "source": [
    "7\\. Consider the integral of the semicircle of radius 1:\n",
    "$$\n",
    "I=\\int_{-1}^{1} \\sqrt(1-x^2) {\\rm d}x\n",
    "$$\n",
    "which it's known to be $I=\\frac{\\pi}{2}=1.57079632679...$.\n",
    "Alternatively we can use the Riemann definition of the integral:\n",
    "$$\n",
    "I=\\lim_{N\\to\\infty} \\sum_{k=1}^{N} h y_k \n",
    "$$\n",
    "\n",
    "with $h=2/N$ the width of each of the $N$ slices the domain is divided into and where\n",
    "$y_k$ is the value of the function at the $k-$th slice.\n",
    "\n",
    "(a) Write a programe to compute the integral with $N=100$. How does the result compares to the true value?\n",
    "\n",
    "(b) How much can $N$ be increased if the computation needs to be run in less than a second? What is the gain in running it for 1 minute? \n"
   ]
  },
  {
   "cell_type": "code",
   "execution_count": null,
   "metadata": {},
   "outputs": [],
   "source": [
    "from math import pi\n",
    "from numpy import linspace, sum, sqrt\n",
    "from numba import jit\n",
    "import time\n",
    "\n",
    "starttime = time.time()\n",
    "\n",
    "@jit(nopython=False)\n",
    "def f(x): return sqrt(1-x**2)\n",
    "\n",
    "\n",
    "@jit(nopython=False)\n",
    "def rieman_sum(N,f):\n",
    "    interval = linspace(-1.,1.,N)\n",
    "    yksum= 0.0\n",
    "    dx = 2/N\n",
    "    for i in interval:\n",
    "        yksum += dx*f(i)\n",
    "    return yksum\n",
    "    \n",
    "N = 1000000000\n",
    "riemann = rieman_sum(N,f)\n",
    "endtime = time.time()\n",
    "elapsed = endtime - starttime\n",
    "true_value = 1.57079632679\n",
    "delta = true_value -riemann\n",
    "print(delta, elapsed)"
   ]
  }
 ],
 "metadata": {
  "kernelspec": {
   "display_name": "ambiente",
   "language": "python",
   "name": "ambiente"
  },
  "language_info": {
   "codemirror_mode": {
    "name": "ipython",
    "version": 3
   },
   "file_extension": ".py",
   "mimetype": "text/x-python",
   "name": "python",
   "nbconvert_exporter": "python",
   "pygments_lexer": "ipython3",
   "version": "3.12.3"
  }
 },
 "nbformat": 4,
 "nbformat_minor": 2
}
