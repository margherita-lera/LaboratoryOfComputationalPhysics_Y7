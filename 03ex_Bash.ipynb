{
 "cells": [
  {
   "cell_type": "markdown",
   "id": "b5746bd0",
   "metadata": {},
   "source": [
    "The following exercises are meant to be solved by gathering the bash commands incrimentally in two scripts, one for ex 1.* the other for ex 2.* "
   ]
  },
  {
   "cell_type": "markdown",
   "id": "4e60de78",
   "metadata": {},
   "source": [
    "### Ex 1"
   ]
  },
  {
   "cell_type": "markdown",
   "id": "6759df36",
   "metadata": {},
   "source": [
    "1\\.a Make a new directory called `students` in your home. Download a csv file with the list of students of this lab from [here](https://www.dropbox.com/s/867rtx3az6e9gm8/LCP_22-23_students.csv) (use the `wget` command) and copy that to `students`. First check whether the file is already there"
   ]
  },
  {
   "cell_type": "markdown",
   "id": "798c0c9d",
   "metadata": {},
   "source": [
    "1\\.b Make two new files, one containing the students belonging to PoD, the other to Physics."
   ]
  },
  {
   "cell_type": "markdown",
   "id": "2176ee76",
   "metadata": {},
   "source": [
    "``` bash\n",
    "#!/bin/bash\n",
    "\n",
    "cd $HOME\n",
    "if [ ! -d \"students\" ]; then\n",
    "    mkdir students\n",
    "else\n",
    "    echo \"Directory students already existing.\"\n",
    "fi\n",
    "if [ -f \"students/LCP_22-23_students.csv\" ]; then\n",
    "    echo \"To-be-downloaded file already existing.\"\n",
    "else\n",
    "    wget -O \"students/LCP_22-23_students.csv\" -q \"https://www.dropbox.com/s/867rtx3az6e9gm8/LCP_22-23_students.csv\"\n",
    "fi\n",
    "#\n",
    "# 1.2: copy the students in two separate files, for Physics and PoD.\n",
    "if [ -f \"students/pod.csv\" ]; then\n",
    "    echo \"PoD file already existing.\"\n",
    "else\n",
    "    grep \"PoD\" \"students/LCP_22-23_students.csv\" > \"students/pod.csv\"\n",
    "fi\n",
    "if [ -f \"students/physics.csv\" ]; then\n",
    "    echo \"Physics file already existing.\"\n",
    "else\n",
    "    grep \"Physics\" \"students/LCP_22-23_students.csv\" > \"students/physics.csv\"\n",
    "fi\n",
    "#1.3\n",
    "```"
   ]
  },
  {
   "cell_type": "markdown",
   "id": "8a43d622",
   "metadata": {},
   "source": [
    "1\\.c For each letter of the alphabet, count the number of students whose surname starts with that letter. "
   ]
  },
  {
   "cell_type": "markdown",
   "id": "4ba6bc90",
   "metadata": {},
   "source": [
    "1\\.d Find out which is the letter with most counts."
   ]
  },
  {
   "cell_type": "markdown",
   "id": "fa05f9df",
   "metadata": {},
   "source": [
    "``` bash\n",
    "max=0\n",
    "max_letter=\"a\"\n",
    "for letter in {a..z}; do\n",
    "    count=$(grep -i \"^$letter\" \"students/LCP_22-23_students.csv\" | wc -l)\n",
    "    echo \"$letter: $count\"\n",
    "    if [ \"$count\" -gt \"$max\" ]; then\n",
    "        max=$count #update new maximum\n",
    "        max_letter=$letter\n",
    "    fi\n",
    "done\n",
    "echo \"Letter with max counts: $max_letter\"\n",
    "\n",
    "\n",
    "```"
   ]
  },
  {
   "cell_type": "markdown",
   "id": "086a043c",
   "metadata": {},
   "source": [
    "1\\.e Assume an obvious numbering of the students in the file (first line is 1, second line is 2, etc.), group students \"modulo 18\", i.e. 1,19,37,.. 2,20,38,.. etc. and put each group in a separate file  "
   ]
  },
  {
   "cell_type": "markdown",
   "id": "93530872",
   "metadata": {},
   "source": [
    "``` bash\n",
    "for group in {1..18}; do\n",
    "    grep -n \"^\" \"students/LCP_22-23_students.csv\" | awk -F: -v g=\"$group\" '($1 - 1) % 18 + 1 == g { print $2 }' > \"students/group_${group}.csv\"\n",
    "done\n",
    "```"
   ]
  },
  {
   "cell_type": "markdown",
   "id": "1d730d21",
   "metadata": {},
   "source": [
    "### Ex 2"
   ]
  },
  {
   "cell_type": "markdown",
   "id": "4b87ecb7",
   "metadata": {},
   "source": [
    "2.a Make a copy of the file `data.csv` removing the metadata and the commas between numbers; call it `data.txt`"
   ]
  },
  {
   "cell_type": "markdown",
   "id": "9f90e5c3",
   "metadata": {},
   "source": [
    "```bash \n",
    "cd $HOME/test\n",
    "if [ -f \"data.txt\" ]; then\n",
    "    echo \"Extracted file already existing.\"\n",
    "else\n",
    "    grep -v '^#' \"data.csv\" | tr -d ',' > \"data.txt\"\n",
    "fi\n",
    "```"
   ]
  },
  {
   "cell_type": "markdown",
   "id": "344048c8",
   "metadata": {},
   "source": [
    "2\\.b How many even numbers are there?"
   ]
  },
  {
   "cell_type": "markdown",
   "id": "9f9bfc67",
   "metadata": {},
   "source": [
    "```bash \n",
    "even_count=$(grep -o '[0-9]\\+' 'data.txt' | awk '$1 % 2 == 0' | wc -l)\n",
    "echo \"Even numbers: $even_count\"\n",
    "\n",
    "```"
   ]
  },
  {
   "cell_type": "markdown",
   "id": "2a27138d",
   "metadata": {},
   "source": [
    "2\\.c Distinguish the entries on the basis of `sqrt(X^2 + Y^2 + Z^2)` is greater or smaller than `100*sqrt(3)/2`. Count the entries of each of the two groups "
   ]
  },
  {
   "cell_type": "markdown",
   "id": "b4520558",
   "metadata": {},
   "source": [
    "```bash \n",
    "threshold=$(echo \"100 * sqrt(3) / 2\" | bc -l)\n",
    "count_greater=0\n",
    "count_smaller=0\n",
    "while read -r x y z _ _ _; do\n",
    "    value=$(echo \"sqrt($x^2 + $y^2 + $z^2)\" | bc -l)\n",
    "    if (( $(echo \"$value > $threshold\" | bc -l) )); then\n",
    "        ((count_greater++))\n",
    "    else\n",
    "        ((count_smaller++))\n",
    "    fi\n",
    "done < \"data.txt\"\n",
    "echo \"Smaller numbers: $count_smaller\"\n",
    "echo \"Larger numbers: $count_greater\"\n",
    "```"
   ]
  },
  {
   "cell_type": "markdown",
   "id": "e937ef4e",
   "metadata": {},
   "source": [
    "2\\.d Make `n` copies of data.txt (with `n` an input parameter of the script), where the i-th copy has all the numbers divided by i (with `1<=i<=n`)."
   ]
  },
  {
   "cell_type": "markdown",
   "id": "bd6730bc",
   "metadata": {},
   "source": [
    "```bash \n",
    "if [ -z \"$1\" ]; then\n",
    "    echo \"value for n?\"\n",
    "    exit 1\n",
    "fi\n",
    "n=$1\n",
    "mkdir -p \"copies\"\n",
    "for ((i=1; i<=n; i++)); do\n",
    "    awk -v divisor=\"$i\" '{ for (j=1; j<=NF; j++) $j = $j / divisor }1' \"data.txt\" > \"copies/data_copy_$i.txt\"\n",
    "done\n",
    "\n",
    "```"
   ]
  },
  {
   "cell_type": "code",
   "execution_count": null,
   "id": "66dfec0f",
   "metadata": {},
   "outputs": [],
   "source": []
  }
 ],
 "metadata": {
  "kernelspec": {
   "display_name": "Python 3 (ipykernel)",
   "language": "python",
   "name": "python3"
  },
  "language_info": {
   "codemirror_mode": {
    "name": "ipython",
    "version": 3
   },
   "file_extension": ".py",
   "mimetype": "text/x-python",
   "name": "python",
   "nbconvert_exporter": "python",
   "pygments_lexer": "ipython3",
   "version": "3.12.3"
  }
 },
 "nbformat": 4,
 "nbformat_minor": 5
}
